{
 "cells": [
  {
   "cell_type": "markdown",
   "id": "df16f05a",
   "metadata": {},
   "source": [
    "## Sending the right targeted offer to Starbucks customers\n",
    "\n",
    "For the capstone project of Udacity's Data Scientist Nanodegree Program, a simulated Starbucks dataset was provided. The dataset not only records promotional offers being sent to Starbucks customers, but also records customers' reactions to the offers, their spending record, and demographic information. \n",
    "\n",
    "With this rich dataset, many questions can be formed and answered. Here I focused on one single question: How can we learn from this dataset to send the right targeted offer to each customer?\n",
    "    \n",
    "<span style=\"color:#1dacd6\">***This is essentially a recommender system problem, and I solved it with three scenarios in mind:***</span>\n",
    "1. [<span style=\"color:#1dacd6\">Knowing nothing about the customer</span>](#first-bullet)\n",
    "2. [<span style=\"color:#1dacd6\">Knowing transaction history of the customer</span>](#second-bullet)\n",
    "3. [<span style=\"color:#1dacd6\">Knowing both transaction history and demographic information of the customer</span>](#third-bullet)\n"
   ]
  },
  {
   "cell_type": "code",
   "execution_count": 282,
   "id": "2ad76b41",
   "metadata": {},
   "outputs": [],
   "source": [
    "import pandas as pd\n",
    "import numpy as np\n",
    "import json\n",
    "import pickle\n",
    "import collections\n",
    "import lightgbm as lgb\n",
    "import xgboost as xgb\n",
    "from sklearn.linear_model import LinearRegression\n",
    "from sklearn.base import BaseEstimator, RegressorMixin\n",
    "from sklearn.model_selection import PredefinedSplit, GridSearchCV\n",
    "from sklearn.metrics import mean_squared_error\n",
    "from scipy.stats import norm\n",
    "import matplotlib.pyplot as plt\n",
    "import seaborn as sns\n",
    "%matplotlib inline"
   ]
  },
  {
   "cell_type": "markdown",
   "id": "38f9ef14",
   "metadata": {},
   "source": [
    "## 0. Load preprocessed data from pickle file\n",
    "* `portfolio` - offer information\n",
    "* `profile` - customer demographic information\n",
    "* `transactions` - customer transactional information\n",
    "* `offers` - reception/view/completion of each offer by customers\n",
    "\n",
    "Refer to `data_cleaning_n_preprocessing.ipynb` for details of each dataframe"
   ]
  },
  {
   "cell_type": "code",
   "execution_count": 5,
   "id": "6c96a9a6",
   "metadata": {},
   "outputs": [],
   "source": [
    "with open(\"data/processed_data.pickle\", \"rb\") as f:\n",
    "    portfolio, profile, transactions, offers = pickle.load(f)"
   ]
  },
  {
   "cell_type": "markdown",
   "id": "8a3a0477",
   "metadata": {},
   "source": [
    "## 1.  Knowing nothing about the customer<a class=\"anchor\" id=\"first-bullet\"></a>\n",
    "If we know nothing about the customer, it is a cold start problem. I solved this problem with **a rank-based recommendation approach: send the highest-ranked offer in the dataset to the customer**. \n",
    "\n",
    "To rank the offers, I sorted offers in the dataset by their `view_rate` (the propotion of offers being viewed) and `complete_rate` (the propotion of offers being redeemed after being viewed), as shown below."
   ]
  },
  {
   "cell_type": "code",
   "execution_count": 6,
   "id": "aab5a24e",
   "metadata": {},
   "outputs": [
    {
     "data": {
      "text/html": [
       "<div>\n",
       "<style scoped>\n",
       "    .dataframe tbody tr th:only-of-type {\n",
       "        vertical-align: middle;\n",
       "    }\n",
       "\n",
       "    .dataframe tbody tr th {\n",
       "        vertical-align: top;\n",
       "    }\n",
       "\n",
       "    .dataframe thead th {\n",
       "        text-align: right;\n",
       "    }\n",
       "</style>\n",
       "<table border=\"1\" class=\"dataframe\">\n",
       "  <thead>\n",
       "    <tr style=\"text-align: right;\">\n",
       "      <th></th>\n",
       "      <th>offer_id</th>\n",
       "      <th>count</th>\n",
       "      <th>view_rate</th>\n",
       "      <th>complete_rate</th>\n",
       "      <th>reward</th>\n",
       "      <th>difficulty</th>\n",
       "      <th>duration</th>\n",
       "      <th>channel_web</th>\n",
       "      <th>channel_email</th>\n",
       "      <th>channel_mobile</th>\n",
       "      <th>channel_social</th>\n",
       "      <th>discount_ratio</th>\n",
       "      <th>type_bogo</th>\n",
       "      <th>type_discount</th>\n",
       "      <th>type_informational</th>\n",
       "    </tr>\n",
       "  </thead>\n",
       "  <tbody>\n",
       "    <tr>\n",
       "      <th>0</th>\n",
       "      <td>0</td>\n",
       "      <td>7658</td>\n",
       "      <td>0.876991</td>\n",
       "      <td>0.343301</td>\n",
       "      <td>10</td>\n",
       "      <td>10</td>\n",
       "      <td>7</td>\n",
       "      <td>0</td>\n",
       "      <td>1</td>\n",
       "      <td>1</td>\n",
       "      <td>1</td>\n",
       "      <td>0.500000</td>\n",
       "      <td>1</td>\n",
       "      <td>0</td>\n",
       "      <td>0</td>\n",
       "    </tr>\n",
       "    <tr>\n",
       "      <th>1</th>\n",
       "      <td>1</td>\n",
       "      <td>7593</td>\n",
       "      <td>0.961148</td>\n",
       "      <td>0.367180</td>\n",
       "      <td>10</td>\n",
       "      <td>10</td>\n",
       "      <td>5</td>\n",
       "      <td>1</td>\n",
       "      <td>1</td>\n",
       "      <td>1</td>\n",
       "      <td>1</td>\n",
       "      <td>0.500000</td>\n",
       "      <td>1</td>\n",
       "      <td>0</td>\n",
       "      <td>0</td>\n",
       "    </tr>\n",
       "    <tr>\n",
       "      <th>2</th>\n",
       "      <td>2</td>\n",
       "      <td>7617</td>\n",
       "      <td>0.544046</td>\n",
       "      <td>0.000000</td>\n",
       "      <td>0</td>\n",
       "      <td>0</td>\n",
       "      <td>4</td>\n",
       "      <td>1</td>\n",
       "      <td>1</td>\n",
       "      <td>1</td>\n",
       "      <td>0</td>\n",
       "      <td>0.000000</td>\n",
       "      <td>0</td>\n",
       "      <td>0</td>\n",
       "      <td>1</td>\n",
       "    </tr>\n",
       "    <tr>\n",
       "      <th>3</th>\n",
       "      <td>3</td>\n",
       "      <td>7677</td>\n",
       "      <td>0.543311</td>\n",
       "      <td>0.276801</td>\n",
       "      <td>5</td>\n",
       "      <td>5</td>\n",
       "      <td>7</td>\n",
       "      <td>1</td>\n",
       "      <td>1</td>\n",
       "      <td>1</td>\n",
       "      <td>0</td>\n",
       "      <td>0.500000</td>\n",
       "      <td>1</td>\n",
       "      <td>0</td>\n",
       "      <td>0</td>\n",
       "    </tr>\n",
       "    <tr>\n",
       "      <th>4</th>\n",
       "      <td>4</td>\n",
       "      <td>7668</td>\n",
       "      <td>0.347287</td>\n",
       "      <td>0.170970</td>\n",
       "      <td>5</td>\n",
       "      <td>20</td>\n",
       "      <td>10</td>\n",
       "      <td>1</td>\n",
       "      <td>1</td>\n",
       "      <td>0</td>\n",
       "      <td>0</td>\n",
       "      <td>0.250000</td>\n",
       "      <td>0</td>\n",
       "      <td>1</td>\n",
       "      <td>0</td>\n",
       "    </tr>\n",
       "    <tr>\n",
       "      <th>5</th>\n",
       "      <td>5</td>\n",
       "      <td>7646</td>\n",
       "      <td>0.959587</td>\n",
       "      <td>0.574418</td>\n",
       "      <td>3</td>\n",
       "      <td>7</td>\n",
       "      <td>7</td>\n",
       "      <td>1</td>\n",
       "      <td>1</td>\n",
       "      <td>1</td>\n",
       "      <td>1</td>\n",
       "      <td>0.428571</td>\n",
       "      <td>0</td>\n",
       "      <td>1</td>\n",
       "      <td>0</td>\n",
       "    </tr>\n",
       "    <tr>\n",
       "      <th>6</th>\n",
       "      <td>6</td>\n",
       "      <td>7597</td>\n",
       "      <td>0.964460</td>\n",
       "      <td>0.613927</td>\n",
       "      <td>2</td>\n",
       "      <td>10</td>\n",
       "      <td>10</td>\n",
       "      <td>1</td>\n",
       "      <td>1</td>\n",
       "      <td>1</td>\n",
       "      <td>1</td>\n",
       "      <td>0.200000</td>\n",
       "      <td>0</td>\n",
       "      <td>1</td>\n",
       "      <td>0</td>\n",
       "    </tr>\n",
       "    <tr>\n",
       "      <th>7</th>\n",
       "      <td>7</td>\n",
       "      <td>7618</td>\n",
       "      <td>0.877789</td>\n",
       "      <td>0.000000</td>\n",
       "      <td>0</td>\n",
       "      <td>0</td>\n",
       "      <td>3</td>\n",
       "      <td>0</td>\n",
       "      <td>1</td>\n",
       "      <td>1</td>\n",
       "      <td>1</td>\n",
       "      <td>0.000000</td>\n",
       "      <td>0</td>\n",
       "      <td>0</td>\n",
       "      <td>1</td>\n",
       "    </tr>\n",
       "    <tr>\n",
       "      <th>8</th>\n",
       "      <td>8</td>\n",
       "      <td>7571</td>\n",
       "      <td>0.959451</td>\n",
       "      <td>0.470083</td>\n",
       "      <td>5</td>\n",
       "      <td>5</td>\n",
       "      <td>5</td>\n",
       "      <td>1</td>\n",
       "      <td>1</td>\n",
       "      <td>1</td>\n",
       "      <td>1</td>\n",
       "      <td>0.500000</td>\n",
       "      <td>1</td>\n",
       "      <td>0</td>\n",
       "      <td>0</td>\n",
       "    </tr>\n",
       "    <tr>\n",
       "      <th>9</th>\n",
       "      <td>9</td>\n",
       "      <td>7632</td>\n",
       "      <td>0.539570</td>\n",
       "      <td>0.276599</td>\n",
       "      <td>2</td>\n",
       "      <td>10</td>\n",
       "      <td>7</td>\n",
       "      <td>1</td>\n",
       "      <td>1</td>\n",
       "      <td>1</td>\n",
       "      <td>0</td>\n",
       "      <td>0.200000</td>\n",
       "      <td>0</td>\n",
       "      <td>1</td>\n",
       "      <td>0</td>\n",
       "    </tr>\n",
       "  </tbody>\n",
       "</table>\n",
       "</div>"
      ],
      "text/plain": [
       "   offer_id  count  view_rate  complete_rate  reward  difficulty  duration  \\\n",
       "0         0   7658   0.876991       0.343301      10          10         7   \n",
       "1         1   7593   0.961148       0.367180      10          10         5   \n",
       "2         2   7617   0.544046       0.000000       0           0         4   \n",
       "3         3   7677   0.543311       0.276801       5           5         7   \n",
       "4         4   7668   0.347287       0.170970       5          20        10   \n",
       "5         5   7646   0.959587       0.574418       3           7         7   \n",
       "6         6   7597   0.964460       0.613927       2          10        10   \n",
       "7         7   7618   0.877789       0.000000       0           0         3   \n",
       "8         8   7571   0.959451       0.470083       5           5         5   \n",
       "9         9   7632   0.539570       0.276599       2          10         7   \n",
       "\n",
       "   channel_web  channel_email  channel_mobile  channel_social  discount_ratio  \\\n",
       "0            0              1               1               1        0.500000   \n",
       "1            1              1               1               1        0.500000   \n",
       "2            1              1               1               0        0.000000   \n",
       "3            1              1               1               0        0.500000   \n",
       "4            1              1               0               0        0.250000   \n",
       "5            1              1               1               1        0.428571   \n",
       "6            1              1               1               1        0.200000   \n",
       "7            0              1               1               1        0.000000   \n",
       "8            1              1               1               1        0.500000   \n",
       "9            1              1               1               0        0.200000   \n",
       "\n",
       "   type_bogo  type_discount  type_informational  \n",
       "0          1              0                   0  \n",
       "1          1              0                   0  \n",
       "2          0              0                   1  \n",
       "3          1              0                   0  \n",
       "4          0              1                   0  \n",
       "5          0              1                   0  \n",
       "6          0              1                   0  \n",
       "7          0              0                   1  \n",
       "8          1              0                   0  \n",
       "9          0              1                   0  "
      ]
     },
     "execution_count": 6,
     "metadata": {},
     "output_type": "execute_result"
    }
   ],
   "source": [
    "# calculate the view and complete rate of each offer type\n",
    "popularity = pd.DataFrame()\n",
    "popularity['count'] = offers.groupby('offer_id')['offer_id'].count()\n",
    "popularity['view_rate'] = offers.groupby('offer_id')['time_viewed'].agg(lambda x:x.notna().mean())\n",
    "popularity['complete_rate'] = offers.groupby('offer_id')['response'].agg(lambda x:(x==3).mean())\n",
    "\n",
    "# merge with offer details for a more insightful look\n",
    "popularity = pd.merge(popularity, portfolio, how = 'inner', on = 'offer_id')\n",
    "\n",
    "# encode offer_type for regression\n",
    "popularity = pd.concat([popularity, pd.get_dummies(popularity['offer_type'], prefix = 'type')], axis = 1)\\\n",
    "                    .drop('offer_type', axis = 1)\n",
    "\n",
    "popularity"
   ]
  },
  {
   "cell_type": "markdown",
   "id": "e61a4e8a",
   "metadata": {},
   "source": [
    "The results above shows that although all 10 offers were sent out around 7600 times, their `response_rate` ranged from 0.17 to 0.61, and their `view_rate` ranged from 0.35 to 0.96. **Offer #8, #6, and #7 are the most popular offers** among BOGO offers, discount offers, and information offers, respectively\n",
    "\n",
    "Alternatively, if we wish to send out an offer that was not included in the dataset, we may design it by combining offer features that boost view or response rate. Below I trained two regression models for `response_rate` and `view_rate` separately. The first model provided insight into designing BOGO and discount offers (spending required), while the second one helped design informational offers (no spending required). "
   ]
  },
  {
   "cell_type": "code",
   "execution_count": 276,
   "id": "b87b67c6",
   "metadata": {},
   "outputs": [
    {
     "name": "stdout",
     "output_type": "stream",
     "text": [
      "channel_social       0.251\n",
      "channel_web          0.081\n",
      "type_discount        0.036\n",
      "duration             0.029\n",
      "channel_mobile       0.013\n",
      "discount_ratio       0.001\n",
      "channel_email        -0.000\n",
      "reward               -0.004\n",
      "difficulty           -0.017\n",
      "type_bogo            -0.036\n"
     ]
    },
    {
     "data": {
      "image/png": "[encoded data removed]",
      "text/plain": [
       "<Figure size 432x288 with 1 Axes>"
      ]
     },
     "metadata": {
      "needs_background": "light"
     },
     "output_type": "display_data"
    }
   ],
   "source": [
    "# model 1 - regression model for response_rate\n",
    "features = ['reward', 'difficulty', 'duration', 'channel_web', 'channel_email', 'channel_mobile',\\\n",
    "       'channel_social', 'type_bogo', 'type_discount', 'discount_ratio']\n",
    "X = popularity[popularity['type_informational']==0][features]\n",
    "y = popularity[popularity['type_informational']==0]['complete_rate']\n",
    "\n",
    "model = LinearRegression()\n",
    "model.fit(X,y)\n",
    "feature_importances = model.coef_\n",
    "\n",
    "for feature,importance in sorted(zip(features,feature_importances), key = lambda x:x[1], reverse=True):\n",
    "    print('{: <20} {:.3f}'.format(feature, importance))\n",
    "    \n",
    "sns.barplot(x = features, y = feature_importances, color=\"#1dacd6\")\n",
    "plt.xticks(rotation=90)\n",
    "plt.title('Feature importance for response rate');"
   ]
  },
  {
   "cell_type": "code",
   "execution_count": 275,
   "id": "cadd1387",
   "metadata": {},
   "outputs": [
    {
     "name": "stdout",
     "output_type": "stream",
     "text": [
      "channel_social       0.419\n",
      "channel_mobile       0.196\n",
      "channel_web          0.083\n",
      "duration             0.000\n",
      "channel_email        -0.000\n"
     ]
    },
    {
     "data": {
      "image/png": "[encoded data removed]",
      "text/plain": [
       "<Figure size 432x288 with 1 Axes>"
      ]
     },
     "metadata": {
      "needs_background": "light"
     },
     "output_type": "display_data"
    }
   ],
   "source": [
    "# model 2 - regression model for view_rate\n",
    "features = ['duration', 'channel_web', 'channel_email', 'channel_mobile', 'channel_social']\n",
    "X = popularity[features]\n",
    "y = popularity['view_rate']\n",
    "\n",
    "model = LinearRegression()\n",
    "model.fit(X,y)\n",
    "feature_importances = model.coef_\n",
    "\n",
    "for feature,importance in sorted(zip(features,feature_importances), key = lambda x:x[1], reverse=True):\n",
    "    print('{: <20} {:.3f}'.format(feature, importance))\n",
    "    \n",
    "sns.barplot(x = features, y = feature_importances, color=\"#1dacd6\")\n",
    "plt.xticks(rotation=90)\n",
    "plt.title('Feature importance for view rate');"
   ]
  },
  {
   "cell_type": "markdown",
   "id": "5c720778",
   "metadata": {},
   "source": [
    "The feature importances derived from the first model showed that **promotion channels played the biggest role in response rate**. People responded strongly and positively to offers received via social media and web, and slightly positively to offers received via mobile app. Longer promotion duration and less difficulty (minumum spending requirement) improved response rate, as expected. The reward and its ratio to difficulty, surprisingly, did not seem so important. Between BOGO and discount offers, people preferred the latter.\n",
    "\n",
    "The feature importances derived from the second model showed that **promotion channels also played the biggest role in view rate**. People were mostly likely to view an offer sent via social media, followed by mobile app and web. The duration of the offer has minimal impact on the view rate. \n",
    "\n",
    "<span style=\"color:#1dacd6\">***Based on the above findings, here are my strategies for sending offers to new customers:***</span>\n",
    "* <span style=\"color:#1dacd6\">Send the customer Offer #8 for BOGO offer, Offer #6 for discount offer, and Offer #7 for information offer.</span>\n",
    "* <span style=\"color:#1dacd6\">Alternatively, if one wish to design a new offer from scratch, make sure it was promoted via both social media and web channels. Run the promotion for a longer period if possible, and design it as a discount-type offer with low minimum purchase requirement. </span>"
   ]
  },
  {
   "cell_type": "markdown",
   "id": "4eb501cc",
   "metadata": {},
   "source": [
    "## 2. Knowing transaction history of the customer<a class=\"anchor\" id=\"second-bullet\"></a>\n",
    "If we know the transaction history (offer redemptions and spending records) of the customer, we can do a better job recommending new offers to the customer.  \n",
    "\n",
    "Here I used a **model-based collaborative filtering approach**, which modeled the user-item interactions (in this case, customer-offer interactions) and used the model to predict new offers that the customer might be interested in."
   ]
  },
  {
   "cell_type": "markdown",
   "id": "23cc7a5a",
   "metadata": {},
   "source": [
    "### 2.1 Model-based collaborative filtering (FunkSVD)\n",
    "The model-based collaborative filtering method I used is **FunkSVD**. It decomposed the user-item matrix (a matrix of customer-offer interactions) into a user-latent matrix and a latent-item matrix. The latent spaces were hiden features of customers and offers, which could be used to predict a customer's response to an unseen offer. The matrix decomposition was performed iteratively, with regularizations added to the objective function to reduce overfitting:\n",
    "<img src=\"objective_func.png\" alt=\"objective function\" width=\"600\"/>\n",
    "\n",
    "Below I defined the FunkSVD class as a child class of Sklearn's regressor template, so that it can safely interact with Sklearn's pipeline and other model selection tools. The class has three functionalities: **fitting a model by decomposing the user-item matrix, predicting a customer's response to an offer according to the model, and recommending new offers to the customer according to the predictions**.  "
   ]
  },
  {
   "cell_type": "code",
   "execution_count": 301,
   "id": "ed71d5c0",
   "metadata": {},
   "outputs": [],
   "source": [
    "class FunkSVD(BaseEstimator, RegressorMixin):\n",
    "\n",
    "    def __init__(self, latent_features=4, learning_rate=0.001, decay = 1, lam = 0, \\\n",
    "                 iters=100, early_stopping = True, verbose = 0, plot = 0):\n",
    "        self.latent_features = latent_features\n",
    "        self.learning_rate = learning_rate\n",
    "        self.decay = decay\n",
    "        self.lam = lam\n",
    "        self.iters = iters\n",
    "        self.early_stopping = early_stopping\n",
    "        self.verbose = verbose\n",
    "        self.plot = plot\n",
    "\n",
    "        \n",
    "    def fit(self, X, y):\n",
    "        # generate user-item matrix (pivot matrix)\n",
    "        self.user_ids, user_pos = np.unique(X[:, 0], return_inverse=True) \n",
    "        self.item_ids, item_pos = np.unique(X[:, 1], return_inverse=True)    \n",
    "        self.user_pos_lut = {self.user_ids[i]:i for i in range(len(self.user_ids))} # id -> idx\n",
    "        self.item_pos_lut = {self.item_ids[i]:i for i in range(len(self.item_ids))}\n",
    "        n_users, n_items, n_ratings = len(self.user_ids), len(self.item_ids), len(y)\n",
    "        self.user_item = np.empty((n_users, n_items))\n",
    "        self.user_item[:] = np.nan\n",
    "        self.user_item[user_pos, item_pos] = y \n",
    "\n",
    "        # initialize the user-latent and latent-item matrices with random values\n",
    "        self.user_mat = np.random.rand(n_users, self.latent_features)\n",
    "        self.item_mat = np.random.rand(self.latent_features, n_items)\n",
    "\n",
    "        losses = []\n",
    "        for iteration in range(self.iters):\n",
    "            loss = 0 # mse loss + regularizations\n",
    "            mse = 0 # mse loss\n",
    "\n",
    "            # For each user-item pair\n",
    "            for i in range(n_users):\n",
    "                for j in range(n_items):                               \n",
    "                    # if the rating exists\n",
    "                    if not np.isnan(self.user_item[i, j]):                    \n",
    "                        # compute the error\n",
    "                        y_pred = np.dot(self.user_mat[i, :], self.item_mat[:, j])\n",
    "                        y = self.user_item[i, j]\n",
    "                        diff = y_pred - y\n",
    "                        loss += 0.5*diff**2\n",
    "                        mse += 0.5*diff**2\n",
    "\n",
    "                        # update the values in the opposite direction of the gradient\n",
    "                        for k in range(self.latent_features):                            \n",
    "                            prev_user_dp, prev_item_dp = self.user_mat[i, k], self.item_mat[k, j]\n",
    "                            self.user_mat[i, k] -= self.learning_rate * \\\n",
    "                                                (diff*prev_item_dp + self.lam*prev_user_dp)\n",
    "                            self.item_mat[k, j] -= self.learning_rate * \\\n",
    "                                                (diff*prev_user_dp + self.lam*prev_item_dp) \n",
    "                            loss += 0.5*self.lam*(prev_user_dp**2 + prev_item_dp**2)                \n",
    "            loss /= n_ratings\n",
    "            mse /= n_ratings\n",
    "            \n",
    "            # reduce learning rate\n",
    "            if iteration%10==0:\n",
    "                self.learning_rate *= self.decay\n",
    "            \n",
    "            # record and show results for this iteration\n",
    "            losses.append(loss)\n",
    "            if self.verbose>1 and iteration%10==0:\n",
    "                print(\"Iteration{:03d}, Loss:{:.3f}, MSE:{:.3f} \".format(iteration, loss, mse))\n",
    "                \n",
    "            # early stopping\n",
    "            if self.early_stopping and len(losses)>1 and (losses[-2]-losses[-1])<1e-4:\n",
    "                if self.verbose>0:\n",
    "                    print(\"Early stopping at Iteration{:03d}.format(iteration)\")\n",
    "                break\n",
    "\n",
    "        # show overall results\n",
    "        if self.plot>0:\n",
    "            plt.plot(losses)\n",
    "            plt.ylabel('Loss')\n",
    "            plt.xlabel('Iteration')\n",
    "            plt.show()\n",
    "        if self.verbose>0:\n",
    "            print('Final Lose:{}, Final MSE:{}'.format(loss, mse))\n",
    "        \n",
    "        return self\n",
    "\n",
    "    \n",
    "    def predict(self, X):\n",
    "        y_pred = []\n",
    "        for user_id, item_id in X:\n",
    "            # assert both user and item have been seen\n",
    "            if user_id in self.user_pos_lut:\n",
    "                user_idx = self.user_pos_lut[user_id]\n",
    "            else:\n",
    "                raise Exception('Cannot predict unseen user {}'.format(user_id))               \n",
    "            if item_id in self.item_pos_lut:\n",
    "                item_idx = self.item_pos_lut[item_id]\n",
    "            else:\n",
    "                raise Exception('Cannot predict unseen item {}'.format(item_id)) \n",
    "            \n",
    "            # make prediction\n",
    "            y_pred.append(self.user_mat[user_idx,:].dot(self.item_mat[:,item_idx]))\n",
    "            \n",
    "        return y_pred  \n",
    "    \n",
    "    \n",
    "    def make_recommendations(self, user_id, n_candidate = -1): \n",
    "        '''\n",
    "        make recommendations based on predicted ratings\n",
    "        '''\n",
    "        # if n_candidate = -1, recommend all unseen items\n",
    "        if n_candidate == -1:\n",
    "            n_candidate = self.user_item.shape[1]\n",
    "        \n",
    "        # predict ratings for all items\n",
    "        ratings = []\n",
    "        for item_id in self.item_ids:\n",
    "            y_pred = self.predict(np.array([[user_id, item_id]]))\n",
    "            ratings.append((y_pred, item_id))\n",
    "        ratings_sorted = sorted(ratings, reverse=True) \n",
    "        \n",
    "        # choose the top rated unseen items\n",
    "        candidates = []\n",
    "        user_idx = self.user_pos_lut[user_id]\n",
    "        for rating, item_id in ratings_sorted:\n",
    "            item_idx = self.item_pos_lut[item_id]\n",
    "            if len(candidates) < n_candidate and np.isnan(self.user_item[user_idx, item_idx]):\n",
    "                candidates.append(item_id)\n",
    "\n",
    "        return candidates\n",
    "    "
   ]
  },
  {
   "cell_type": "markdown",
   "id": "4bb3af65",
   "metadata": {},
   "source": [
    "### 2.2 Train-test split\n",
    "To test the performance of the model, the `offers` dataframe was splitted into training and test datasets using a custom splitter `test_fold_FunkSVD`.\n",
    "\n",
    "Note that FunkSVD cannot handle unseen customers, so the function ensured that **each customer had at least one entry in the training dataset**. The same splitter was also used for cross-validation later."
   ]
  },
  {
   "cell_type": "code",
   "execution_count": 173,
   "id": "4c586a1b",
   "metadata": {},
   "outputs": [],
   "source": [
    "def test_fold_FunkSVD(X, test_size = 0.1, fold = 1, random_state = 42):\n",
    "    '''\n",
    "    generate train/test indices for splitting data into train/test sets\n",
    "    to avoid cold start problem, make sure the training set has at least one record of each user\n",
    "    '''\n",
    "    np.random.seed(random_state)\n",
    "\n",
    "    if isinstance(test_size, int):\n",
    "        n = test_size\n",
    "    elif isinstance(test_size, float):\n",
    "        n = max(int(X.shape[0]*test_size),1)\n",
    "\n",
    "    # count of data entry for each user \n",
    "    record_count = collections.Counter(X[:,0])\n",
    "    \n",
    "    candidates = list(np.random.permutation(X.shape[0]))\n",
    "    test_fold = np.array([-1]*X.shape[0])\n",
    "    for i in range(fold):\n",
    "        test_idx = []\n",
    "        while len(test_idx) < n:\n",
    "            assert len(candidates) > 0\n",
    "            candidate = candidates.pop()\n",
    "            candidate_user_id = X[candidate,0]\n",
    "            if record_count[candidate_user_id] > 1:\n",
    "                record_count[candidate_user_id] -= 1\n",
    "                test_idx.append(candidate)\n",
    "        test_fold[test_idx] = i\n",
    "                \n",
    "    return test_fold\n"
   ]
  },
  {
   "cell_type": "code",
   "execution_count": 306,
   "id": "f7eab147",
   "metadata": {},
   "outputs": [
    {
     "name": "stdout",
     "output_type": "stream",
     "text": [
      "(75515, 2) (75515,) (762, 2) (762,)\n"
     ]
    }
   ],
   "source": [
    "X = offers[['customer_id','offer_id']].to_numpy()\n",
    "y = offers['response'].to_numpy()\n",
    "\n",
    "# train/test split\n",
    "test_fold = test_fold_FunkSVD(X, test_size = 0.01, fold = 1, random_state = 42)\n",
    "ps = PredefinedSplit(test_fold)\n",
    "for train_index, test_index in ps.split():\n",
    "    X_train, X_test = X[train_index], X[test_index]\n",
    "    y_train, y_test = y[train_index], y[test_index]\n",
    "print(X_train.shape, y_train.shape, X_test.shape, y_test.shape)"
   ]
  },
  {
   "cell_type": "markdown",
   "id": "a1511cda",
   "metadata": {},
   "source": [
    "### 2.3 Hyper-parameter tuning and testing\n",
    "The hyper-parameters of FunkSVD model were tuned with **grid search and cross-validations, using MSE as evaluation metric**. After tuning, the best model (model with minimum cross-validation MSE) was further tested with the test dataset, also using MSE as metric."
   ]
  },
  {
   "cell_type": "code",
   "execution_count": null,
   "id": "f3073b88",
   "metadata": {},
   "outputs": [],
   "source": [
    "# parameters to be tuned\n",
    "params = {\n",
    "    'latent_features':[2,4], \n",
    "    'learning_rate':[0.1,0.05,0.01], \n",
    "    'decay':[0.7,0.5],\n",
    "    'lam' : [0.2,0.5], \n",
    "    'iters':[200]\n",
    "}\n",
    "\n",
    "# grid search with cross-validation\n",
    "funk_svd = FunkSVD(verbose = 1, plot = 0)\n",
    "cv_fold = test_fold_FunkSVD(X_train, test_size = 200, fold = 3, random_state = 42)\n",
    "clf = GridSearchCV(funk_svd, params, cv = PredefinedSplit(cv_fold),\\\n",
    "                   verbose = 3, scoring = 'neg_mean_squared_error', n_jobs = 1)\n",
    "clf.fit(X_train, y_train)\n",
    "clf.best_params_"
   ]
  },
  {
   "cell_type": "code",
   "execution_count": 231,
   "id": "1ea96778",
   "metadata": {},
   "outputs": [
    {
     "name": "stdout",
     "output_type": "stream",
     "text": [
      "MSE of the test dataset: 0.983\n"
     ]
    }
   ],
   "source": [
    "# test the performance of the optimized model\n",
    "best = clf.best_estimator_\n",
    "y_pred = best.predict(X_test)\n",
    "print('MSE of the test dataset: {:.03f}'.format(mean_squared_error(y_pred, y_test)))"
   ]
  },
  {
   "cell_type": "markdown",
   "id": "838d314e",
   "metadata": {},
   "source": [
    "### 2.4 Making recommendations using the FunkSVD model\n",
    "After finding the best set of hyper-parameters, the model was re-trained with all data available. To recommende offers to an customer, **the model predicts his/her response to all unseen offers, and offers with top responses are recommended**."
   ]
  },
  {
   "cell_type": "code",
   "execution_count": 314,
   "id": "b8b36d63",
   "metadata": {},
   "outputs": [
    {
     "name": "stdout",
     "output_type": "stream",
     "text": [
      "Iteration000, Loss:0.792, MSE:0.507 \n",
      "Iteration010, Loss:0.740, MSE:0.444 \n",
      "Iteration020, Loss:0.711, MSE:0.413 \n",
      "Iteration030, Loss:0.687, MSE:0.387 \n",
      "Iteration040, Loss:0.668, MSE:0.366 \n",
      "Iteration050, Loss:0.652, MSE:0.349 \n",
      "Iteration060, Loss:0.639, MSE:0.335 \n",
      "Iteration070, Loss:0.628, MSE:0.323 \n",
      "Iteration080, Loss:0.619, MSE:0.314 \n",
      "Iteration090, Loss:0.611, MSE:0.306 \n",
      "Iteration100, Loss:0.605, MSE:0.300 \n",
      "Iteration110, Loss:0.599, MSE:0.294 \n",
      "Iteration120, Loss:0.594, MSE:0.290 \n",
      "Iteration130, Loss:0.590, MSE:0.286 \n",
      "Iteration140, Loss:0.587, MSE:0.283 \n",
      "Iteration150, Loss:0.584, MSE:0.280 \n",
      "Iteration160, Loss:0.581, MSE:0.277 \n",
      "Iteration170, Loss:0.579, MSE:0.275 \n",
      "Iteration180, Loss:0.577, MSE:0.273 \n",
      "Iteration190, Loss:0.575, MSE:0.272 \n"
     ]
    },
    {
     "data": {
      "image/png": "[encoded data removed]",
      "text/plain": [
       "<Figure size 432x288 with 1 Axes>"
      ]
     },
     "metadata": {
      "needs_background": "light"
     },
     "output_type": "display_data"
    },
    {
     "name": "stdout",
     "output_type": "stream",
     "text": [
      "Final Lose:0.5736762770261985, Final MSE:0.2706843856163637\n",
      "The top 3 offers recommended for User 0 are: 8, 1, 0\n"
     ]
    }
   ],
   "source": [
    "svd = FunkSVD(**clf.best_params_, plot = 0, verbose = 0)\n",
    "svd.fit(X,y)\n",
    "\n",
    "# recommend 3 offers for user 0\n",
    "user_id = 0\n",
    "n_candidate = 3\n",
    "offer_candidates = svd.make_recommendations(user_id = user_id, n_candidate = n_candidate)\n",
    "print('The top {} offers recommended for User {} are: {}'\\\n",
    "      .format(n_candidate, user_id, ', '.join(str(candidate) for candidate in offer_candidates)))"
   ]
  },
  {
   "cell_type": "markdown",
   "id": "531cb60c",
   "metadata": {},
   "source": [
    "### 2.5 But wait a minute ... are offers really necessary for all customers?\n",
    "Offers are sent out to motive cutomer spendings, but what if a customer has massive spending anyway? \n",
    "\n",
    "**If a customer was spending way more money than what was required to complete his/her offers, this customer may not need offers at all.** Since we have the customers' transaction history, let's find out those customers."
   ]
  },
  {
   "cell_type": "code",
   "execution_count": 296,
   "id": "41ff0867",
   "metadata": {},
   "outputs": [
    {
     "data": {
      "image/png": "[encoded data removed]",
      "text/plain": [
       "<Figure size 1080x360 with 1 Axes>"
      ]
     },
     "metadata": {
      "needs_background": "light"
     },
     "output_type": "display_data"
    }
   ],
   "source": [
    "# total spending of each customer\n",
    "spending_vs_requirement = transactions.groupby('customer_id')['amount'].sum().reset_index(name = 'tot_spending')\n",
    "\n",
    "# total offer minimum spending requirements of each customer\n",
    "spending_vs_requirement['tot_requirement'] = pd.merge(offers, portfolio, how = 'left', on = 'offer_id')\\\n",
    "                            .groupby('customer_id')['difficulty'].sum()\n",
    "\n",
    "# plot distributions of spendings vs requirements\n",
    "plt.figure(figsize=(15,5))\n",
    "sns.histplot(spending_vs_requirement['tot_spending'], binwidth=20, color=\"#1dacd6\", alpha = 0.5, \\\n",
    "             label = 'Total spending')\n",
    "sns.histplot(spending_vs_requirement['tot_requirement'], binwidth=20, color=\"azure\", alpha = 0.5, \\\n",
    "             label = 'Total offer spending requirement')\n",
    "plt.legend();"
   ]
  },
  {
   "cell_type": "markdown",
   "id": "efebc9e4",
   "metadata": {},
   "source": [
    "As we see above, the distribution of total spending is highly skewed, while the distrution of the total offer spending requirement is close to normal. Below I fitted a normal distribution to the total offer spending requirement, and set a hard threshold at 5 sigmas. **Customers who spent beyond the threshold are considered spending way more money than required, therefore insensitive to offers.**"
   ]
  },
  {
   "cell_type": "code",
   "execution_count": 309,
   "id": "8722d98c",
   "metadata": {},
   "outputs": [
    {
     "name": "stdout",
     "output_type": "stream",
     "text": [
      "miu = 34.61 \n",
      "sigma = 14.33 \n",
      "threshold = 106.25\n"
     ]
    },
    {
     "data": {
      "text/html": [
       "<div>\n",
       "<style scoped>\n",
       "    .dataframe tbody tr th:only-of-type {\n",
       "        vertical-align: middle;\n",
       "    }\n",
       "\n",
       "    .dataframe tbody tr th {\n",
       "        vertical-align: top;\n",
       "    }\n",
       "\n",
       "    .dataframe thead th {\n",
       "        text-align: right;\n",
       "    }\n",
       "</style>\n",
       "<table border=\"1\" class=\"dataframe\">\n",
       "  <thead>\n",
       "    <tr style=\"text-align: right;\">\n",
       "      <th></th>\n",
       "      <th>customer_id</th>\n",
       "      <th>tot_spending</th>\n",
       "      <th>tot_requirement</th>\n",
       "      <th>offer_sensitive</th>\n",
       "    </tr>\n",
       "  </thead>\n",
       "  <tbody>\n",
       "    <tr>\n",
       "      <th>0</th>\n",
       "      <td>0</td>\n",
       "      <td>20.40</td>\n",
       "      <td>57.0</td>\n",
       "      <td>True</td>\n",
       "    </tr>\n",
       "    <tr>\n",
       "      <th>1</th>\n",
       "      <td>1</td>\n",
       "      <td>77.01</td>\n",
       "      <td>5.0</td>\n",
       "      <td>True</td>\n",
       "    </tr>\n",
       "    <tr>\n",
       "      <th>2</th>\n",
       "      <td>2</td>\n",
       "      <td>14.30</td>\n",
       "      <td>5.0</td>\n",
       "      <td>True</td>\n",
       "    </tr>\n",
       "    <tr>\n",
       "      <th>3</th>\n",
       "      <td>3</td>\n",
       "      <td>159.27</td>\n",
       "      <td>20.0</td>\n",
       "      <td>False</td>\n",
       "    </tr>\n",
       "    <tr>\n",
       "      <th>4</th>\n",
       "      <td>4</td>\n",
       "      <td>4.65</td>\n",
       "      <td>60.0</td>\n",
       "      <td>True</td>\n",
       "    </tr>\n",
       "  </tbody>\n",
       "</table>\n",
       "</div>"
      ],
      "text/plain": [
       "   customer_id  tot_spending  tot_requirement  offer_sensitive\n",
       "0            0         20.40             57.0             True\n",
       "1            1         77.01              5.0             True\n",
       "2            2         14.30              5.0             True\n",
       "3            3        159.27             20.0            False\n",
       "4            4          4.65             60.0             True"
      ]
     },
     "execution_count": 309,
     "metadata": {},
     "output_type": "execute_result"
    }
   ],
   "source": [
    "# find threshold\n",
    "mu, std = norm.fit(spending_vs_requirement['tot_requirement'].dropna())\n",
    "threshold = 5*std + mu\n",
    "print('miu = {:.02f} \\nsigma = {:.02f} \\nthreshold = {:.02f}'.format(mu, std, threshold))\n",
    "\n",
    "# find offer-sensitive customers\n",
    "spending_vs_requirement['offer_sensitive'] = spending_vs_requirement['tot_spending'] <= threshold\n",
    "spending_vs_requirement.head()"
   ]
  },
  {
   "cell_type": "markdown",
   "id": "58225b77",
   "metadata": {},
   "source": [
    "<span style=\"color:#1dacd6\">***Based on the above findings, here are my strategies for sending offers to customers with transaction histories:***</span>\n",
    "* <span style=\"color:#1dacd6\">If in the past the customer had spent way more money than the offer required, this is a customer insensitive to offers. No more offer needs to be sent.</span>\n",
    "* <span style=\"color:#1dacd6\">Otherwise, use the FunkSVD model to predict the customer's response to offers he/she has not received before, and send him/her offers with the highest responses. </span>"
   ]
  },
  {
   "cell_type": "markdown",
   "id": "f38552ce",
   "metadata": {},
   "source": [
    "## 3. Knowing transaction history & demographic information of the customer<a class=\"anchor\" id=\"third-bullet\"></a>\n",
    "demographic information about the customer (age, gender, etc.)\n",
    "\n",
    "a hybrid approach of collaborative filtering and content-based."
   ]
  },
  {
   "cell_type": "markdown",
   "id": "6234b430",
   "metadata": {},
   "source": [
    "## 4. Conclusion"
   ]
  },
  {
   "cell_type": "code",
   "execution_count": null,
   "id": "38807646",
   "metadata": {},
   "outputs": [],
   "source": []
  }
 ],
 "metadata": {
  "kernelspec": {
   "display_name": "Python 3",
   "language": "python",
   "name": "python3"
  },
  "language_info": {
   "codemirror_mode": {
    "name": "ipython",
    "version": 3
   },
   "file_extension": ".py",
   "mimetype": "text/x-python",
   "name": "python",
   "nbconvert_exporter": "python",
   "pygments_lexer": "ipython3",
   "version": "3.8.8"
  }
 },
 "nbformat": 4,
 "nbformat_minor": 5
}
